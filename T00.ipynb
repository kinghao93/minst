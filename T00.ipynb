{
 "cells": [
  {
   "cell_type": "code",
   "execution_count": 1,
   "metadata": {},
   "outputs": [
    {
     "name": "stdout",
     "output_type": "stream",
     "text": [
      "(<type 'str'>, '00000000')\n(1, 28, 28)\n1\n<type 'int'>\n"
     ]
    },
    {
     "name": "stdout",
     "output_type": "stream",
     "text": [
      "(<type 'str'>, '00000001')\n(1, 28, 28)\n1\n<type 'int'>\n"
     ]
    },
    {
     "name": "stdout",
     "output_type": "stream",
     "text": [
      "(<type 'str'>, '00000002')\n(1, 28, 28)\n1\n<type 'int'>\n"
     ]
    },
    {
     "name": "stdout",
     "output_type": "stream",
     "text": [
      "(<type 'str'>, '00000003')\n(1, 28, 28)\n1\n<type 'int'>\n"
     ]
    }
   ],
   "source": [
    "import lmdb\n",
    "from caffe.io import caffe_pb2, datum_to_array\n",
    "import cv2 as cv\n",
    "\n",
    "env = lmdb.open(\"mnist_train_lmdb\")\n",
    "txn = env.begin()\n",
    "cur = txn.cursor()\n",
    "# print type(cur)\n",
    "for key, value in cur:\n",
    "    print(type(key), key)\n",
    "    datum = caffe_pb2.Datum()\n",
    "    datum.ParseFromString(value)\n",
    "\n",
    "    label = datum.label\n",
    "    data = datum_to_array(datum)\n",
    "    print data.shape\n",
    "    print datum.channels\n",
    "    image = data[0]\n",
    "    # image = data.transpose(1, 2, 0)\n",
    "\n",
    "    print(type(label))\n",
    "    cv.imshow(str(label), image)\n",
    "    cv.waitKey(0)\n",
    "\n",
    "cv.destroyAllWindows()\n",
    "env.close()"
   ]
  }
 ],
 "metadata": {
  "kernelspec": {
   "display_name": "Python 2",
   "language": "python",
   "name": "python2"
  },
  "language_info": {
   "codemirror_mode": {
    "name": "ipython",
    "version": 2.0
   },
   "file_extension": ".py",
   "mimetype": "text/x-python",
   "name": "python",
   "nbconvert_exporter": "python",
   "pygments_lexer": "ipython2",
   "version": "2.7.6"
  }
 },
 "nbformat": 4,
 "nbformat_minor": 0
}